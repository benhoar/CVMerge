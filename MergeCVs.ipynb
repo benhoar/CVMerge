{
 "cells": [
  {
   "cell_type": "code",
   "execution_count": 4,
   "metadata": {},
   "outputs": [
    {
     "name": "stderr",
     "output_type": "stream",
     "text": [
      "  0%|          | 0/40 [00:00<?, ?it/s]"
     ]
    },
    {
     "name": "stdout",
     "output_type": "stream",
     "text": [
      "E_12944_DISP_3132_ECE_9881_EC_3290_\n",
      "1399 1399\n"
     ]
    },
    {
     "name": "stderr",
     "output_type": "stream",
     "text": [
      "  2%|▎         | 1/40 [00:04<02:57,  4.55s/it]"
     ]
    },
    {
     "name": "stdout",
     "output_type": "stream",
     "text": [
      "DISP_5343_CE_1399_ECE_12452_SR_4438_\n",
      "1702 1702\n"
     ]
    },
    {
     "name": "stderr",
     "output_type": "stream",
     "text": [
      "  5%|▌         | 2/40 [00:09<02:51,  4.52s/it]"
     ]
    },
    {
     "name": "stdout",
     "output_type": "stream",
     "text": [
      "CE_4815_SR_1841_DISP_6022_EC_12812_\n",
      "1199 1199\n"
     ]
    },
    {
     "name": "stderr",
     "output_type": "stream",
     "text": [
      "  8%|▊         | 3/40 [00:12<02:32,  4.13s/it]"
     ]
    },
    {
     "name": "stdout",
     "output_type": "stream",
     "text": [
      "CE_12823_ECE_3769_EC_11214_ECE_10435_\n",
      "1799 1799\n"
     ]
    },
    {
     "name": "stderr",
     "output_type": "stream",
     "text": [
      " 10%|█         | 4/40 [00:17<02:34,  4.30s/it]"
     ]
    },
    {
     "name": "stdout",
     "output_type": "stream",
     "text": [
      "EC_5101_DISP_6586_ECE_6656_E_1876_\n",
      "1999 1999\n"
     ]
    },
    {
     "name": "stderr",
     "output_type": "stream",
     "text": [
      " 12%|█▎        | 5/40 [00:21<02:28,  4.25s/it]"
     ]
    },
    {
     "name": "stdout",
     "output_type": "stream",
     "text": [
      "E_12798_DISP_11544_ECE_10545_SR_3877_\n",
      "1836 1836\n"
     ]
    },
    {
     "name": "stderr",
     "output_type": "stream",
     "text": [
      " 15%|█▌        | 6/40 [00:24<02:13,  3.92s/it]"
     ]
    },
    {
     "name": "stdout",
     "output_type": "stream",
     "text": [
      "DISP_1972_SR_1367_E_6115_E_3147_\n",
      "2399 2399\n"
     ]
    },
    {
     "name": "stderr",
     "output_type": "stream",
     "text": [
      " 18%|█▊        | 7/40 [00:29<02:16,  4.14s/it]"
     ]
    },
    {
     "name": "stdout",
     "output_type": "stream",
     "text": [
      "ECE_11925_CE_11075_SR_511_DISP_10773_\n",
      "1299 1299\n"
     ]
    },
    {
     "name": "stderr",
     "output_type": "stream",
     "text": [
      " 20%|██        | 8/40 [00:32<02:07,  3.98s/it]"
     ]
    },
    {
     "name": "stdout",
     "output_type": "stream",
     "text": [
      "DISP_7663_E_7725_CE_11342_CE_4503_\n",
      "1699 1699\n"
     ]
    },
    {
     "name": "stderr",
     "output_type": "stream",
     "text": [
      " 22%|██▎       | 9/40 [00:37<02:08,  4.13s/it]"
     ]
    },
    {
     "name": "stdout",
     "output_type": "stream",
     "text": [
      "T_9674_SR_516_ECE_127_DISP_4490_\n",
      "2099 2099\n"
     ]
    },
    {
     "name": "stderr",
     "output_type": "stream",
     "text": [
      " 25%|██▌       | 10/40 [00:41<02:03,  4.12s/it]"
     ]
    },
    {
     "name": "stdout",
     "output_type": "stream",
     "text": [
      "E_9470_CE_10869_ECE_7896_ECE_3035_\n",
      "1899 1899\n"
     ]
    },
    {
     "name": "stderr",
     "output_type": "stream",
     "text": [
      " 28%|██▊       | 11/40 [00:45<02:00,  4.14s/it]"
     ]
    },
    {
     "name": "stdout",
     "output_type": "stream",
     "text": [
      "T_3088_DISP_9716_EC_9986_EC_9329_\n",
      "2499 2499\n"
     ]
    },
    {
     "name": "stderr",
     "output_type": "stream",
     "text": [
      " 30%|███       | 12/40 [00:50<01:59,  4.27s/it]"
     ]
    },
    {
     "name": "stdout",
     "output_type": "stream",
     "text": [
      "CE_6095_EC_1676_CE_9962_CE_6322_\n",
      "1099 1099\n"
     ]
    },
    {
     "name": "stderr",
     "output_type": "stream",
     "text": [
      " 32%|███▎      | 13/40 [00:54<01:52,  4.15s/it]"
     ]
    },
    {
     "name": "stdout",
     "output_type": "stream",
     "text": [
      "SR_4268_CE_7194_DISP_5421_CE_3733_\n",
      "1699 1699\n"
     ]
    },
    {
     "name": "stderr",
     "output_type": "stream",
     "text": [
      " 35%|███▌      | 14/40 [00:58<01:50,  4.25s/it]"
     ]
    },
    {
     "name": "stdout",
     "output_type": "stream",
     "text": [
      "SR_3956_E_2867_ECE_8890_E_2459_\n",
      "2599 2599\n"
     ]
    },
    {
     "name": "stderr",
     "output_type": "stream",
     "text": [
      " 38%|███▊      | 15/40 [01:02<01:45,  4.22s/it]"
     ]
    },
    {
     "name": "stdout",
     "output_type": "stream",
     "text": [
      "ECE_3260_ECE_4631_DISP_10057_DISP_10773_\n",
      "1299 1299\n"
     ]
    },
    {
     "name": "stderr",
     "output_type": "stream",
     "text": [
      " 40%|████      | 16/40 [01:06<01:40,  4.17s/it]"
     ]
    },
    {
     "name": "stdout",
     "output_type": "stream",
     "text": [
      "EC_9751_EC_8959_E_742_ECE_7480_\n",
      "2199 2199\n"
     ]
    },
    {
     "name": "stderr",
     "output_type": "stream",
     "text": [
      " 42%|████▎     | 17/40 [01:11<01:37,  4.23s/it]"
     ]
    },
    {
     "name": "stdout",
     "output_type": "stream",
     "text": [
      "EC_4778_EC_4778_SR_881_EC_4415_\n",
      "2399 2399\n"
     ]
    },
    {
     "name": "stderr",
     "output_type": "stream",
     "text": [
      " 45%|████▌     | 18/40 [01:15<01:33,  4.24s/it]"
     ]
    },
    {
     "name": "stdout",
     "output_type": "stream",
     "text": [
      "CE_8427_E_9074_CE_11233_E_2459_\n",
      "2599 2599\n"
     ]
    },
    {
     "name": "stderr",
     "output_type": "stream",
     "text": [
      " 48%|████▊     | 19/40 [01:20<01:32,  4.41s/it]"
     ]
    },
    {
     "name": "stdout",
     "output_type": "stream",
     "text": [
      "T_9632_EC_450_DISP_2903_E_3592_\n",
      "1099 1099\n"
     ]
    },
    {
     "name": "stderr",
     "output_type": "stream",
     "text": [
      " 50%|█████     | 20/40 [01:25<01:31,  4.57s/it]"
     ]
    },
    {
     "name": "stdout",
     "output_type": "stream",
     "text": [
      "E_8328_E_1446_DISP_6814_ECP_4128_\n",
      "1999 1999\n"
     ]
    },
    {
     "name": "stderr",
     "output_type": "stream",
     "text": [
      " 52%|█████▎    | 21/40 [01:29<01:27,  4.58s/it]"
     ]
    },
    {
     "name": "stdout",
     "output_type": "stream",
     "text": [
      "EC_4606_CE_1155_CE_5448_ECE_4631_\n",
      "2299 2299\n"
     ]
    },
    {
     "name": "stderr",
     "output_type": "stream",
     "text": [
      " 55%|█████▌    | 22/40 [01:35<01:26,  4.82s/it]"
     ]
    },
    {
     "name": "stdout",
     "output_type": "stream",
     "text": [
      "SR_4503_SR_573_CE_12426_SR_3983_\n",
      "1396 1396\n"
     ]
    },
    {
     "name": "stderr",
     "output_type": "stream",
     "text": [
      " 57%|█████▊    | 23/40 [01:38<01:16,  4.51s/it]"
     ]
    },
    {
     "name": "stdout",
     "output_type": "stream",
     "text": [
      "SR_1592_E_12044_CE_7597_E_3961_\n",
      "1699 1699\n"
     ]
    },
    {
     "name": "stderr",
     "output_type": "stream",
     "text": [
      " 60%|██████    | 24/40 [01:43<01:10,  4.39s/it]"
     ]
    },
    {
     "name": "stdout",
     "output_type": "stream",
     "text": [
      "ECE_1703_ECE_12463_E_2432_ECE_9881_\n",
      "1699 1699\n"
     ]
    },
    {
     "name": "stderr",
     "output_type": "stream",
     "text": [
      " 62%|██████▎   | 25/40 [01:46<01:03,  4.23s/it]"
     ]
    },
    {
     "name": "stdout",
     "output_type": "stream",
     "text": [
      "oopsie\n",
      "ECE_4559_DISP_6777_EC_4687_CE_2641_\n",
      "1699 1699\n"
     ]
    },
    {
     "name": "stderr",
     "output_type": "stream",
     "text": [
      " 68%|██████▊   | 27/40 [01:51<00:42,  3.23s/it]"
     ]
    },
    {
     "name": "stdout",
     "output_type": "stream",
     "text": [
      "T_8011_E_8666_E_9554_SR_3877_\n",
      "1836 1836\n"
     ]
    },
    {
     "name": "stderr",
     "output_type": "stream",
     "text": [
      " 70%|███████   | 28/40 [01:54<00:39,  3.27s/it]"
     ]
    },
    {
     "name": "stdout",
     "output_type": "stream",
     "text": [
      "CE_1866_E_4799_CE_8274_CE_5548_\n",
      "2199 2199\n"
     ]
    },
    {
     "name": "stderr",
     "output_type": "stream",
     "text": [
      " 72%|███████▎  | 29/40 [01:58<00:38,  3.48s/it]"
     ]
    },
    {
     "name": "stdout",
     "output_type": "stream",
     "text": [
      "EC_8959_CE_10757_EC_12345_EC_8511_\n",
      "1299 1299\n"
     ]
    },
    {
     "name": "stderr",
     "output_type": "stream",
     "text": [
      " 75%|███████▌  | 30/40 [02:02<00:37,  3.73s/it]"
     ]
    },
    {
     "name": "stdout",
     "output_type": "stream",
     "text": [
      "E_1818_E_9446_EC_1926_DISP_2297_\n",
      "2299 2299\n"
     ]
    },
    {
     "name": "stderr",
     "output_type": "stream",
     "text": [
      " 78%|███████▊  | 31/40 [02:06<00:34,  3.80s/it]"
     ]
    },
    {
     "name": "stdout",
     "output_type": "stream",
     "text": [
      "E_11461_SR_3877_DISP_10605_T_368_\n",
      "1799 1799\n"
     ]
    },
    {
     "name": "stderr",
     "output_type": "stream",
     "text": [
      " 80%|████████  | 32/40 [02:10<00:29,  3.75s/it]"
     ]
    },
    {
     "name": "stdout",
     "output_type": "stream",
     "text": [
      "SR_4842_SR_3174_EC_7299_EC_10654_\n",
      "2399 2399\n"
     ]
    },
    {
     "name": "stderr",
     "output_type": "stream",
     "text": [
      " 82%|████████▎ | 33/40 [02:14<00:26,  3.75s/it]"
     ]
    },
    {
     "name": "stdout",
     "output_type": "stream",
     "text": [
      "ECP_9717_ECE_384_CE_9173_EC_12536_\n",
      "1899 1899\n"
     ]
    },
    {
     "name": "stderr",
     "output_type": "stream",
     "text": [
      " 85%|████████▌ | 34/40 [02:18<00:23,  3.92s/it]"
     ]
    },
    {
     "name": "stdout",
     "output_type": "stream",
     "text": [
      "EC_826_CE_9962_E_7725_E_12343_\n",
      "1999 1999\n"
     ]
    },
    {
     "name": "stderr",
     "output_type": "stream",
     "text": [
      " 88%|████████▊ | 35/40 [02:23<00:20,  4.18s/it]"
     ]
    },
    {
     "name": "stdout",
     "output_type": "stream",
     "text": [
      "EC_6905_ECE_1389_ECE_2700_SR_1414_\n",
      "1546 1546\n"
     ]
    },
    {
     "name": "stderr",
     "output_type": "stream",
     "text": [
      " 90%|█████████ | 36/40 [02:27<00:16,  4.08s/it]"
     ]
    },
    {
     "name": "stdout",
     "output_type": "stream",
     "text": [
      "T_3412_CE_10934_DISP_12134_EC_10004_\n",
      "1999 1999\n"
     ]
    },
    {
     "name": "stderr",
     "output_type": "stream",
     "text": [
      " 92%|█████████▎| 37/40 [02:31<00:12,  4.24s/it]"
     ]
    },
    {
     "name": "stdout",
     "output_type": "stream",
     "text": [
      "CE_5675_DISP_4472_E_742_E_9554_\n",
      "1499 1499\n"
     ]
    },
    {
     "name": "stderr",
     "output_type": "stream",
     "text": [
      " 95%|█████████▌| 38/40 [02:35<00:08,  4.07s/it]"
     ]
    },
    {
     "name": "stdout",
     "output_type": "stream",
     "text": [
      "oopsie\n",
      "SR_2609_DISP_7167_SR_545_CE_4949_\n",
      "999 999\n"
     ]
    },
    {
     "name": "stderr",
     "output_type": "stream",
     "text": [
      "100%|██████████| 40/40 [02:39<00:00,  3.98s/it]\n"
     ]
    }
   ],
   "source": [
    "import pandas as pd, os, numpy as np, random as r, pickle, math\n",
    "from matplotlib import pyplot as plt\n",
    "from matplotlib.gridspec import GridSpec\n",
    "from tqdm import tqdm\n",
    "\n",
    "class DataPretreatment:\n",
    "   def __init__(\n",
    "                  self, \n",
    "                  forward_current_limit=0.05, \n",
    "                  reverse_current_limit=0.01,\n",
    "                  root_directory='.',\n",
    "                  data_folder='Samples'\n",
    "   ):\n",
    "      self.forward_current_limit = forward_current_limit\n",
    "      self.reverse_current_limit = reverse_current_limit\n",
    "      self.root_directory = root_directory \n",
    "      self.data_folder=data_folder\n",
    "      self.mechs=['EC1', 'CE', 'ECE', 'DISP', 'ECP', 'T', 'E', 'SR'] \n",
    "\n",
    "   def label_merge_safety(self):\n",
    "      path = f'{self.root_directory}/Merge_Safety'\n",
    "      if not os.path.isdir(path):\n",
    "         os.mkdir(path)\n",
    "      data_path = './Samples'\n",
    "      for mech in self.mechs: \n",
    "         files = os.listdir(f'{self.root_directory}/{self.data_folder}/{mech}')\n",
    "         files = [f for f in files if f.endswith('.txt')]\n",
    "         merge_safe = {}\n",
    "         conditional_safe = {}\n",
    "         print(f'Treating: {mech}')\n",
    "         for file in tqdm(files):\n",
    "            df = pd.read_csv(f'{data_path}/{mech}/{file}')\n",
    "            df = df.loc[df['v'] == min(df['v'])]\n",
    "            n = len(df)//2\n",
    "            fwd = df.iloc[:n, :]\n",
    "            rev = df.iloc[n:, :]\n",
    "            d_fwd = abs(fwd.loc[fwd.index[-100], 'A'] - fwd.loc[fwd.index[-1], 'A'])\n",
    "            d_rev = abs(rev.loc[rev.index[-100], 'A'] - rev.loc[rev.index[-1], 'A'])\n",
    "            left_merge = d_rev <= self.reverse_current_limit\n",
    "            right_merge = d_fwd <= self.forward_current_limit\n",
    "            if left_merge and right_merge:\n",
    "               merge_safe[file] = (left_merge, right_merge)\n",
    "            elif left_merge or right_merge:\n",
    "               conditional_safe[file] = (left_merge, right_merge)\n",
    "         pickle.dump(merge_safe, open(f'{path}/{mech}_safe.pkl','wb'))\n",
    "         pickle.dump(conditional_safe, open(f'{path}/{mech}_half_safe.pkl','wb'))\n",
    "\n",
    "   def gen_scan_rate_data(self):\n",
    "      path = f'{self.root_directory}/Scan_Rate_Info'\n",
    "      if not os.path.isdir(path):\n",
    "         os.mkdir(path)\n",
    "      for mech in self.mechs:\n",
    "         file_path = f'{self.root_directory}/{self.data_folder}/{mech}'\n",
    "         files = os.listdir(file_path)\n",
    "         files = [f for f in files if f.endswith('txt')]\n",
    "         data = []\n",
    "         for file in files:\n",
    "            df = pd.read_csv(f'{file_path}/{file}')\n",
    "            srs = df['v'].unique()\n",
    "            max_sr = math.log10(max(srs))\n",
    "            min_sr = math.log10(min(srs))\n",
    "            sr_range = max_sr-min_sr\n",
    "            data.append([file, sr_range])\n",
    "         res = pd.DataFrame(data, columns=[\"File\", \"Range\"])\n",
    "         res.to_csv(f'{path}/{mech}_SRs.csv', index=False)\n",
    "      print(\"Done Generating Scan Rate Sheets\")\n",
    "\n",
    "class Mech:\n",
    "   def __init__(self, mech, cathodic, scale_min=0.2):\n",
    "      self.mech = mech\n",
    "      self.cathodic = cathodic\n",
    "      self.data = None\n",
    "      self.file = None\n",
    "      self.scaling = r.randint(100*scale_min, 100)/100\n",
    "      self.bounding_box = []\n",
    "      self.reversible = True\n",
    "\n",
    "   def __str__(self):\n",
    "      return f'Mech: {self.mech}, Cathodic: {self.cathodic}, Scaling: {self.scaling}, Reversible: {self.reversible}, File: {self.file}'\n",
    "\n",
    "class MergeCV:\n",
    "   def __init__(\n",
    "                  self, \n",
    "                  num_to_merge=4,\n",
    "                  scale_min=0.2, \n",
    "                  forward_current_limit=0.05, \n",
    "                  reverse_current_limit=0.01,\n",
    "                  fractional_peak_current=0.33,\n",
    "                  dictating_scan_rate=-1,\n",
    "                  peak_ratio=0.1,\n",
    "                  additional_shift_min=0,\n",
    "                  additional_shift_max=1000,\n",
    "                  scan_range_tolerance=0.2,         \n",
    "   ):\n",
    "      self.num_to_merge = num_to_merge\n",
    "      self.scale_min = scale_min\n",
    "      self.forward_current_limit = forward_current_limit\n",
    "      self.reverse_current_limit = reverse_current_limit\n",
    "      self.fractional_peak_current = fractional_peak_current\n",
    "      self.dictating_scan_rate = dictating_scan_rate\n",
    "      self.peak_ratio = peak_ratio\n",
    "      self.additional_shift_min = additional_shift_min\n",
    "      self.additional_shift_max = additional_shift_max\n",
    "      self.name = \"\"\n",
    "      self.mechs = None\n",
    "      self.res = None\n",
    "      self.scan_range_tolerance = scan_range_tolerance\n",
    "\n",
    "   def __get_mechs(self):\n",
    "      mechs = [None]*self.num_to_merge\n",
    "      x = r.randint(1, 8)\n",
    "      if x == 1:\n",
    "         cath = round(r.random())\n",
    "         if cath:\n",
    "            mechs[0] = Mech(\"T\", True, self.scale_min)\n",
    "         else:\n",
    "            mechs[-1] = Mech(\"T\", False, self.scale_min)\n",
    "\n",
    "      x = r.randint(1, 8)\n",
    "      x = 2\n",
    "      if x == 2:\n",
    "         cath = round(r.random())\n",
    "         if cath and not mechs[0]:\n",
    "            mechs[0] = Mech(\"ECP\", True, self.scale_min)\n",
    "         elif cath:\n",
    "            mechs[-1] = Mech(\"ECP\", False, self.scale_min)\n",
    "         elif mechs[-1]:\n",
    "            mechs[0] = Mech(\"ECP\", True, self.scale_min)\n",
    "         else:\n",
    "            mechs[-1] = Mech(\"ECP\", False, self.scale_min)\n",
    "\n",
    "      # EC1 is equal to EC anodic or CE cathodic, EC2 is equal to CE anodic or EC cathodic\n",
    "      remaining_mechs = [\"E\", \"EC1\", \"ECE\", \"DISP\", \"CE\", \"SR\"] # REMOVED SR\n",
    "      for i, spot in enumerate(mechs):\n",
    "         if not spot:\n",
    "            x = r.randint(0, len(remaining_mechs)-1)\n",
    "            cathodic = True if round(r.random()) == 1 else False\n",
    "            mechs[i] = Mech(remaining_mechs[x], cathodic, self.scale_min)\n",
    "      self.mechs = mechs\n",
    "   \n",
    "   def __get_valid_file(self, options, mechanism, host_range):\n",
    "      if host_range == 0:\n",
    "         return r.choice(options)\n",
    "      sr_info = pd.read_csv(f'./Scan_Rate_Info/{mechanism}_SRs.csv')\n",
    "      min_sr_range = host_range-self.scan_range_tolerance\n",
    "      max_sr_range = host_range+self.scan_range_tolerance\n",
    "      sr_info = sr_info.loc[(sr_info['Range'] >= min_sr_range) & (sr_info['Range'] <= max_sr_range)]\n",
    "      sr_info = sr_info.loc[sr_info['File'].isin(options)]\n",
    "      indices = sr_info.index\n",
    "      return sr_info.loc[r.choice(indices), 'File']  \n",
    "\n",
    "   def __get_files(self):\n",
    "      host_range = 0\n",
    "      for i, mech in enumerate(self.mechs):\n",
    "         # safe means it can be merged from either side, so no special consideration is necessary\n",
    "         safe = pickle.load(open(f'./Merge_Safety/{mech.mech}_safe.pkl', 'rb'))\n",
    "         # half safe means it is useable as a beginning or terminal mechanism so needs to be looked at\n",
    "         half_safe = pickle.load(open(f'./Merge_Safety/{mech.mech}_half_safe.pkl', 'rb'))\n",
    "         if i == 1 or i == 2:\n",
    "            options = list(safe.keys())\n",
    "            file = self.__get_valid_file(options, mech.mech, host_range)\n",
    "         # considerations on if T or ECP need to be flipped have already been made so pick any file\n",
    "         elif mech.mech == 'T' or mech.mech == 'ECP':\n",
    "            options = list(safe.keys())\n",
    "            options.extend(list(half_safe.keys()))\n",
    "            file = self.__get_valid_file(options, mech.mech, host_range)\n",
    "         else:\n",
    "            options = list(safe.keys())\n",
    "            options.extend(list(half_safe.keys()))\n",
    "            file = self.__get_valid_file(options, mech.mech, host_range)\n",
    "            if file not in safe:\n",
    "               # if data is only mergeable from one side, we may need to over-ride the assigned flipping\n",
    "               left_safe = half_safe[file][0]\n",
    "               right_safe = half_safe[file][1]\n",
    "               if left_safe: # must be flipped if it is left most, otherwise can't be\n",
    "                  if i == 0:\n",
    "                     mech.cathodic = True\n",
    "                  else:\n",
    "                     mech.cathodic = False\n",
    "               else: # must be flipped if it right most, otherwise can't be\n",
    "                  if i == 0:\n",
    "                     mech.cathodic = False\n",
    "                  else:\n",
    "                     mech.cathodic = True\n",
    "         mech.file = file\n",
    "         self.name += file[:-4] + \"_\"\n",
    "         mech.data = pd.read_csv(f'./Samples/{mech.mech}/{file}')\n",
    "         if host_range == 0:\n",
    "            host_range = math.log10(max(mech.data['v'])) - math.log10(min(mech.data['v']))\n",
    "         min_V = min(mech.data['V'])\n",
    "         mech.data.loc[:,'V'] -= min_V\n",
    "         mech.data.reset_index(inplace=True, drop=True)\n",
    "\n",
    "   def __adjust_data(self, mech):\n",
    "      flip = -1 if mech.cathodic else 1\n",
    "      mech.data.loc[:, 'A'] *= mech.scaling*flip\n",
    "      res = pd.DataFrame()\n",
    "      if mech.cathodic:\n",
    "         for v in mech.data['v'].unique():\n",
    "            t = mech.data.loc[mech.data['v'] == v].copy()\n",
    "            currents = t.loc[:,'A']\n",
    "            n = len(currents)//2\n",
    "            fwd_currents = list(currents[:n])\n",
    "            rev_currents = list(currents[n:])\n",
    "            rev_currents.extend(fwd_currents)\n",
    "            t['A'] = rev_currents\n",
    "            res = pd.concat([res, t])\n",
    "         mech.data = res\n",
    "      mech.data.reset_index(inplace=True, drop=True)   \n",
    "\n",
    "   def __get_reversibility(self, mech):\n",
    "      if mech.mech == 'T':\n",
    "         return False\n",
    "      lcl_data = mech.data.loc[mech.data['v'] == max(mech.data['v'])].copy()\n",
    "      min_cur = min(lcl_data['A'])\n",
    "      max_cur = max(lcl_data['A'])\n",
    "      peak_ratio = abs(min_cur/max_cur) if abs(min_cur) < max_cur else abs(max_cur/min_cur)\n",
    "      last_cur = lcl_data.loc[lcl_data.index[-1], 'A']\n",
    "      if abs(last_cur-min_cur) < 0.02:\n",
    "         return False\n",
    "      return peak_ratio >= 0.1\n",
    "   \n",
    "   def __find_index(self, l, r, target, data):\n",
    "      decreasing = data.loc[l, 'A'] > data.loc[r, 'A']\n",
    "      while (l <= r):\n",
    "         m = l+(r-l) // 2\n",
    "         if data.loc[m, 'A'] < target:\n",
    "            if decreasing:\n",
    "               r = m-1\n",
    "            else:\n",
    "               l = m+1\n",
    "         else:\n",
    "            if decreasing:\n",
    "               l = m+1\n",
    "            else:\n",
    "               r = m-1\n",
    "      return l if l <= data.index[-1] else data.index[-1]\n",
    "\n",
    "   def __calculate_merge_reps(self, mech):\n",
    "      scan_rates = mech.data['v'].unique()\n",
    "      rep_data = mech.data[mech.data['v'] == scan_rates[self.dictating_scan_rate]]\n",
    "\n",
    "      max_A = max(rep_data['A'])\n",
    "      min_A = min(rep_data['A'])\n",
    "      \n",
    "      #reversible = self.__get_reversibility(mech)\n",
    "      main_peak = max_A if max_A > abs(min_A) else min_A\n",
    "      # Mpi = max peak index, mpi = min peak index\n",
    "      Mpi = rep_data[rep_data['A'] == max_A].index[0]\n",
    "      mpi = rep_data[rep_data['A'] == min_A].index[0]\n",
    "\n",
    "      merge_points = []\n",
    "      indices = rep_data.index\n",
    "      l = indices[0]\n",
    "      r = indices[-1]\n",
    "      n = indices[len(indices)//2]\n",
    "      if rep_data.loc[Mpi, 'A'] == main_peak or mech.reversible:\n",
    "         target = self.fractional_peak_current*(max_A-rep_data.loc[n,'A']) + rep_data.loc[n,'A']\n",
    "         merge_points.append(self.__find_index(l, Mpi, target, rep_data))\n",
    "         merge_points.append(self.__find_index(Mpi, n, target, rep_data))\n",
    "         \n",
    "      if rep_data.loc[mpi, 'A'] == main_peak or mech.reversible:\n",
    "         target = rep_data.loc[r,'A'] - self.fractional_peak_current*(abs(min_A-rep_data.loc[r,'A']))\n",
    "         merge_points.append(self.__find_index(n+1,mpi, target, rep_data))\n",
    "         merge_points.append(self.__find_index(mpi, r, target, rep_data))\n",
    "   \n",
    "      mech.data['merge_point'] = False\n",
    "      for point in merge_points:\n",
    "         mech.data.loc[point, 'merge_point'] = True\n",
    "\n",
    "   def initialize_data(self):\n",
    "      mechs = self.__get_mechs()\n",
    "      self.__get_files()\n",
    "      for i, mech in enumerate(self.mechs):\n",
    "         mech.reversible = self.__get_reversibility(mech)\n",
    "         self.__adjust_data(mech)\n",
    "         self.__calculate_merge_reps(mech)\n",
    "\n",
    "   def run_spoof(self, files, orientations, scales):\n",
    "      for i, mech in enumerate(self.mechs):\n",
    "         file = files[i]\n",
    "         scale = scales[i]\n",
    "         orientation = orientations[i]\n",
    "         mech.mech = file[:file.find(\"_\")]\n",
    "         mech.file = file\n",
    "         mech.scaling = scale\n",
    "         mech.direction = orientation\n",
    "         mech.data = pd.read_csv(f'./Samples/{mech.mech}/{file}.txt')\n",
    "         mech.reversible = self.__get_reversibility(mech)\n",
    "         self.__adjust_data(mech)\n",
    "         self.__calculate_merge_reps(mech)\n",
    "         \n",
    "   def __calculate_shifts(self):\n",
    "      def get_mps(indices, data):\n",
    "         max_potential = data.loc[indices[0], 'V']\n",
    "         min_potential = max_potential\n",
    "         for i in range(1, len(indices)):\n",
    "            cur = data.loc[indices[i], 'V']\n",
    "            max_potential = max(max_potential, cur)\n",
    "            min_potential = min(min_potential, cur)\n",
    "         return [min_potential, max_potential]\n",
    "\n",
    "      host = self.mechs[0].data\n",
    "      mpis = host.loc[host['merge_point']].index\n",
    "      host_mps = get_mps(mpis, host)\n",
    "      shifts = [0]\n",
    "      for i in range(1, len(self.mechs)):\n",
    "         guest = self.mechs[i].data\n",
    "         mpis = guest.loc[guest['merge_point']].index\n",
    "         guest_mps = get_mps(mpis, guest)\n",
    "         host_pot = host_mps[1]\n",
    "         guest_pot = guest_mps[0]\n",
    "         rand_shift = r.randint(self.additional_shift_min, self.additional_shift_max)\n",
    "         shift = (host_pot-guest_pot) + rand_shift\n",
    "         shifts.append(shift)\n",
    "         guest_mps[1] += shift\n",
    "         host_mps = guest_mps\n",
    "      return shifts\n",
    "\n",
    "   def __calculate_bounding(self,mech):\n",
    "      min_mp = float('inf')\n",
    "      max_mp = float('-inf')\n",
    "      if  mech.reversible:\n",
    "         for mp in mech.data.loc[mech.data['merge_point']].index:\n",
    "            min_mp = min(min_mp, mech.data.loc[mp, 'V'])\n",
    "            max_mp = max(max_mp, mech.data.loc[mp, 'V'])\n",
    "      elif mech.cathodic:\n",
    "         for mp in mech.data.loc[mech.data['merge_point']].index:\n",
    "            min_mp = min(min_mp, mech.data.loc[mp, 'V'])\n",
    "         peak_pot_ind = mech.data.loc[mech.data['A'] == min(mech.data['A'])].index[0]\n",
    "         peak_pot = mech.data.loc[peak_pot_ind, 'V']\n",
    "         diff = abs(peak_pot-min_mp)\n",
    "         max_mp = peak_pot + diff\n",
    "      else:\n",
    "         for mp in mech.data.loc[mech.data['merge_point']].index:\n",
    "            max_mp = max(max_mp, mech.data.loc[mp, 'V'])\n",
    "         peak_pot_ind = mech.data.loc[mech.data['A'] == max(mech.data['A'])].index[0]\n",
    "         peak_pot = mech.data.loc[peak_pot_ind, 'V']\n",
    "         diff = abs(peak_pot-max_mp)\n",
    "         min_mp = peak_pot - diff\n",
    "      mech.bounding_box.extend([min_mp, max_mp])\n",
    "\n",
    "   def format_data(self):\n",
    "      shifts = self.__calculate_shifts()\n",
    "      for i, mech in enumerate(self.mechs):\n",
    "         mech.data.loc[:,'V'] += shifts[i]\n",
    "         mapping = {v:i for i,v in enumerate(mech.data['v'].unique())}\n",
    "         mech.data.replace({'v': mapping}, inplace=True)\n",
    "         self.__calculate_bounding(mech)\n",
    "         mech.data.drop(['merge_point'], axis=1, inplace=True)\n",
    "\n",
    "   def __merge_dfs(self, dfs, sr, rev=False):\n",
    "      res = pd.DataFrame()\n",
    "      left_adds = []\n",
    "      right_adds = []\n",
    "      max_V = max(dfs[-1]['V'])\n",
    "      min_V = min(dfs[0]['V'])\n",
    "      res = pd.DataFrame(columns=['V','A','v'])\n",
    "      res['V'] = range(int(min_V), int(max_V))\n",
    "      res['v'] = sr\n",
    "      for df in dfs:\n",
    "         if rev:\n",
    "            #print(df.head())\n",
    "            df = df[::-1]\n",
    "            df.reset_index(inplace=True, drop=True)\n",
    "            #print(df.head())\n",
    "         left_adds.append([min(df['V']), df.loc[df.index[0], 'A']])\n",
    "         right_adds.append([max(df['V']), df.loc[df.index[-1], 'A']])   \n",
    "         res = pd.concat([res, df]).groupby(['V','v']).sum().reset_index()\n",
    "      for left in left_adds:\n",
    "         res.loc[res['V'] < left[0], 'A'] += left[1]\n",
    "      for right in right_adds:\n",
    "         res.loc[res['V'] > right[0], 'A'] += right[1]\n",
    "      return res\n",
    "\n",
    "   def merge(self, single=False):\n",
    "      res = pd.DataFrame()\n",
    "\n",
    "      for i in range(6):\n",
    "         fwd_dfs = []\n",
    "         rev_dfs = []\n",
    "         name = \"\"\n",
    "         global_max = 0\n",
    "         for j, mech in enumerate(self.mechs):\n",
    "            if j == self.num_to_merge-1:\n",
    "               global_max = max(mech.data['V'])\n",
    "            name += mech.file[:-4]\n",
    "            data = mech.data[mech.data['v'] == i].copy()\n",
    "            data.reset_index(inplace=True, drop=True)\n",
    "            n = data.loc[data['V'] == max(data['V'])].index[0]\n",
    "            fwd_df = data.iloc[:n, :].copy()\n",
    "            rev_df = data.iloc[n:, :].copy()\n",
    "            pots = pd.Series(list(set(fwd_df['V']).intersection(set(rev_df['V']))))\n",
    "            fwd_df = fwd_df.loc[fwd_df['V'].isin(pots)]\n",
    "            rev_df = rev_df.loc[rev_df['V'].isin(pots)]\n",
    "            fwd_dfs.append(fwd_df)\n",
    "            rev_dfs.append(rev_df)\n",
    "\n",
    "         fwd_full = self.__merge_dfs(fwd_dfs, i)\n",
    "         rev_full = self.__merge_dfs(rev_dfs, i, rev=True)\n",
    "         rev_full = rev_full[::-1]\n",
    "         res = pd.concat([res, fwd_full, rev_full])\n",
    "         if single:\n",
    "            res = res.loc[(res['V'] > 0) & (res['V'] < global_max)]\n",
    "            res.reset_index(inplace=True, drop=True)\n",
    "            self.res = res\n",
    "            return res # tabbed in for single scan rate\n",
    "      res = res.loc[(res['V'] > 0) & (res['V'] < global_max)]\n",
    "      res.reset_index(inplace=True, drop=True)\n",
    "      self.res = res\n",
    "      return res\n",
    "\n",
    "   def simple_plot(self):\n",
    "      for mech in self.mechs:\n",
    "         data = mech.data\n",
    "         plt.scatter(data['V'], data['A'], s=0.1, c=data['v'], cmap='Set2')\n",
    "         plt.show()\n",
    "         plt.clf()\n",
    "\n",
    "   def fancy_plot(self, save=False, highlight=False):\n",
    "      fig = plt.figure(constrained_layout=True)\n",
    "      gs = GridSpec(4,2, figure=fig,hspace=0, wspace=0)\n",
    "      cmap='viridis'\n",
    "      components = []\n",
    "      components.append(fig.add_subplot(gs[3:4, :1]))\n",
    "      components.append(fig.add_subplot(gs[2:3, :1]))\n",
    "      components.append(fig.add_subplot(gs[3:4, -1:]))\n",
    "      components.append(fig.add_subplot(gs[2:3, -1:]))\n",
    "\n",
    "      ax1 = fig.add_subplot(gs[:2,:])\n",
    "      infos = [[\"Mech\"],[\"Scaling\"],[\"Direction\"],[\"Reversible\"]]\n",
    "      name = \"\"\n",
    "      if highlight:\n",
    "         colors=['rebeccapurple', 'dodgerblue', 'cyan', 'black']\n",
    "      else:\n",
    "         colors=['white']*self.num_to_merge\n",
    "      bar_xs = []\n",
    "      bar_widths = []\n",
    "      bounding_boxes = []\n",
    "      bb_colors = ['grey', 'black', 'grey', 'black']\n",
    "      for i, mech in enumerate(self.mechs):\n",
    "         name += mech.file[:-4] + \"_\"\n",
    "         infos[0].append(mech.mech)\n",
    "         infos[1].append(mech.scaling)\n",
    "         infos[2].append(\"cathodic\" if mech.cathodic else \"anodic\")\n",
    "         infos[3].append(mech.reversible)\n",
    "         ax = components.pop(0)\n",
    "         ax.get_xaxis().set_ticks([])\n",
    "         ax.get_yaxis().set_ticks([])\n",
    "         ax.patch.set_facecolor(colors[i])\n",
    "         ax.patch.set_alpha(0.2)\n",
    "         ax.scatter(mech.data['V'], mech.data['A'], s=0.02, c=mech.data['v'], cmap=cmap, zorder=1)\n",
    "         min_V = max(0, min(mech.data['V']))\n",
    "         max_V = min(max(self.res['V']), max(mech.data['V']))\n",
    "         bar_width = max_V-min_V\n",
    "         bar_xs.append(min_V + bar_width//2)\n",
    "         bar_widths.append(max_V-min_V)\n",
    "         y_range = max(mech.data['A']) - min(mech.data['A'])\n",
    "         x_range = max(mech.data['V']) - min(mech.data['V'])\n",
    "         n = len(mech.bounding_box)\n",
    "         bounding_boxes.append(mech.bounding_box)\n",
    "         widths = [0.02*x_range]*n\n",
    "         ax.bar(mech.bounding_box, [y_range]*n, bottom=[min(mech.data['A'])]*n, width=widths, zorder=0, color=bb_colors[i])\n",
    "\n",
    "\n",
    "      bottom = min(self.res['A'])\n",
    "      y_range = max(self.res['A']) - min(self.res['A'])\n",
    "      x_range = max(self.res['V']) - min(self.res['V'])\n",
    "      bar_heights = [y_range/4]*self.num_to_merge\n",
    "      bottoms = [bottom + i*bar_heights[0] for i in range(4)]\n",
    "      bar_heights = [y_range/4]*self.num_to_merge\n",
    "      ax1.bar(bar_xs, bar_heights, bottom=bottoms, width=bar_widths, color=colors, alpha=0.2, zorder=0)\n",
    "      ax1.scatter(self.res['V'], self.res['A'], s=0.05, c=self.res['v'], cmap=cmap, zorder=len(bounding_boxes)+1)\n",
    "      for i, bb in enumerate(bounding_boxes):\n",
    "         ax1.bar(bb, y_range, width=0.005*x_range, bottom=min(self.res['A']), color=bb_colors[i], zorder=i+1)\n",
    "      ax1.table(infos, loc='top', cellLoc='center')\n",
    "      ax1.tick_params(axis=\"both\", labelsize=8)\n",
    "      if save:\n",
    "         plt.savefig(f'./Graphs/{name}image.png', dpi=200)\n",
    "      else:\n",
    "         plt.show()\n",
    "      plt.clf()\n",
    "      plt.close('all')\n",
    "\n",
    "   def save(self):\n",
    "      info = {}\n",
    "      for i, mech in enumerate(self.mechs):\n",
    "         info['Cathodic'] = mech.cathodic\n",
    "         info['Scaling'] = mech.scaling\n",
    "         info['File'] = mech.file\n",
    "         info['Position'] = i\n",
    "      pickle.dump(info, open(f'./Generated_Data/{self.name}details', 'wb'))\n",
    "      pickle.dump(self.res, open(f'./Generated_Data/{self.name}data', 'wb'))\n",
    "\n",
    "   def get_report(self, file):\n",
    "      mech = file[:file.find('_')]\n",
    "      mech_obj = Mech(mech, False)\n",
    "      mech_obj.file = file\n",
    "      mech_obj.data = pd.read_csv(f'./Samples/{mech}/{file}')\n",
    "      mech_obj.data.loc[:, 'A'] *= mech_obj.scaling\n",
    "      self.mechs = [mech_obj]\n",
    "      self.__calculate_merge_reps(mech_obj)\n",
    "      reversible = self.__get_reversibility(mech_obj)\n",
    "      merge_points = mech_obj.data.loc[mech_obj.data['merge_point']].index\n",
    "      pots = sorted([mech_obj.data.loc[i, 'V'] for i in merge_points])\n",
    "      print(mech_obj)\n",
    "      print(f'Reversible: {reversible}, Merge Potentials: {pots}')\n",
    "      self.simple_plot()\n",
    "\n",
    "for i in tqdm(range(40)): # ~ 100/minute w/ graphing every 25, ≥ 140k per day)\n",
    "   try:\n",
    "      merger = MergeCV(scan_range_tolerance=1, additional_shift_max=1000)\n",
    "      merger.initialize_data()\n",
    "      #merger.run_spoof(['CE_1992', 'ECE_3147', 'DISP_4193', 'ECE_12836'], [True, True, False, True], [0.84, 0.23, 0.66, 0.24])\n",
    "      merger.format_data()\n",
    "      merger.merge()\n",
    "      if i % 1 == 0:\n",
    "         merger.fancy_plot(save=True, highlight=True)\n",
    "      #merger.save()\n",
    "   except:\n",
    "       print(\"oopsie\")\n"
   ]
  },
  {
   "cell_type": "code",
   "execution_count": 78,
   "metadata": {},
   "outputs": [
    {
     "data": {
      "text/html": [
       "<div>\n",
       "<style scoped>\n",
       "    .dataframe tbody tr th:only-of-type {\n",
       "        vertical-align: middle;\n",
       "    }\n",
       "\n",
       "    .dataframe tbody tr th {\n",
       "        vertical-align: top;\n",
       "    }\n",
       "\n",
       "    .dataframe thead th {\n",
       "        text-align: right;\n",
       "    }\n",
       "</style>\n",
       "<table border=\"1\" class=\"dataframe\">\n",
       "  <thead>\n",
       "    <tr style=\"text-align: right;\">\n",
       "      <th></th>\n",
       "      <th>V</th>\n",
       "      <th>v</th>\n",
       "      <th>A</th>\n",
       "    </tr>\n",
       "  </thead>\n",
       "  <tbody>\n",
       "    <tr>\n",
       "      <th>0</th>\n",
       "      <td>-718.0</td>\n",
       "      <td>6.193590</td>\n",
       "      <td>0.000000e+00</td>\n",
       "    </tr>\n",
       "    <tr>\n",
       "      <th>1</th>\n",
       "      <td>-717.0</td>\n",
       "      <td>6.193590</td>\n",
       "      <td>2.441255e-90</td>\n",
       "    </tr>\n",
       "    <tr>\n",
       "      <th>2</th>\n",
       "      <td>-716.0</td>\n",
       "      <td>6.193590</td>\n",
       "      <td>4.882510e-90</td>\n",
       "    </tr>\n",
       "    <tr>\n",
       "      <th>3</th>\n",
       "      <td>-715.0</td>\n",
       "      <td>6.193590</td>\n",
       "      <td>-3.583720e-106</td>\n",
       "    </tr>\n",
       "    <tr>\n",
       "      <th>4</th>\n",
       "      <td>-714.0</td>\n",
       "      <td>6.193590</td>\n",
       "      <td>-2.441255e-90</td>\n",
       "    </tr>\n",
       "    <tr>\n",
       "      <th>...</th>\n",
       "      <td>...</td>\n",
       "      <td>...</td>\n",
       "      <td>...</td>\n",
       "    </tr>\n",
       "    <tr>\n",
       "      <th>4</th>\n",
       "      <td>-714.0</td>\n",
       "      <td>7.873494</td>\n",
       "      <td>-1.144309e-91</td>\n",
       "    </tr>\n",
       "    <tr>\n",
       "      <th>3</th>\n",
       "      <td>-715.0</td>\n",
       "      <td>7.873494</td>\n",
       "      <td>-4.350733e-104</td>\n",
       "    </tr>\n",
       "    <tr>\n",
       "      <th>2</th>\n",
       "      <td>-716.0</td>\n",
       "      <td>7.873494</td>\n",
       "      <td>2.288618e-91</td>\n",
       "    </tr>\n",
       "    <tr>\n",
       "      <th>1</th>\n",
       "      <td>-717.0</td>\n",
       "      <td>7.873494</td>\n",
       "      <td>1.144309e-91</td>\n",
       "    </tr>\n",
       "    <tr>\n",
       "      <th>0</th>\n",
       "      <td>-718.0</td>\n",
       "      <td>7.873494</td>\n",
       "      <td>0.000000e+00</td>\n",
       "    </tr>\n",
       "  </tbody>\n",
       "</table>\n",
       "<p>17244 rows × 3 columns</p>\n",
       "</div>"
      ],
      "text/plain": [
       "        V         v              A\n",
       "0  -718.0  6.193590   0.000000e+00\n",
       "1  -717.0  6.193590   2.441255e-90\n",
       "2  -716.0  6.193590   4.882510e-90\n",
       "3  -715.0  6.193590 -3.583720e-106\n",
       "4  -714.0  6.193590  -2.441255e-90\n",
       "..    ...       ...            ...\n",
       "4  -714.0  7.873494  -1.144309e-91\n",
       "3  -715.0  7.873494 -4.350733e-104\n",
       "2  -716.0  7.873494   2.288618e-91\n",
       "1  -717.0  7.873494   1.144309e-91\n",
       "0  -718.0  7.873494   0.000000e+00\n",
       "\n",
       "[17244 rows x 3 columns]"
      ]
     },
     "execution_count": 78,
     "metadata": {},
     "output_type": "execute_result"
    }
   ],
   "source": [
    "path = './Samples/SR'\n",
    "files = os.listdir(path)\n",
    "files = [f for f in files if f.endswith('txt')]\n",
    "\n",
    "def fill_scan(df, sr):\n",
    "   if df.loc[df.index[0], 'V'] > df.loc[df.index[-1],'V']:\n",
    "      df = df[::-1]\n",
    "   sr = df['v'].unique()[0]\n",
    "   min_V = int(min(df['V']))\n",
    "   max_V = int(max(df['V']))\n",
    "   og_pots = df['V'].unique()\n",
    "   new_pots = range(min_V, max_V)\n",
    "   res = pd.DataFrame()\n",
    "   res['V'] = new_pots\n",
    "   res['v'] = sr\n",
    "   res = pd.concat([res, df]).groupby(['V','v']).sum().reset_index()\n",
    "   res.loc[~res['V'].isin(og_pots), 'A'] = None\n",
    "   res.interpolate(columns=['A'], inplace=True)\n",
    "   return res\n",
    "\n",
    "for i, file in enumerate(files):\n",
    "   f = pd.read_csv(f'{path}/{file}')\n",
    "   #f.loc[:,'V'] *= (1.5 + 1*r.random())\n",
    "   f.loc[:, 'V'] = round(f.loc[:,'V'])\n",
    "   res = pd.DataFrame()\n",
    "   for v in f['v'].unique():\n",
    "      t = f.loc[f['v'] == v].copy()\n",
    "      ind = t.loc[t['V'] == max(t['V'])].index\n",
    "      fwd = t.loc[:ind[1]]\n",
    "      fwd = fill_scan(fwd, v)\n",
    "      rev = t.loc[ind[1]:]\n",
    "      rev = fill_scan(rev, v)\n",
    "      rev = rev[::-1]\n",
    "      interped = pd.concat([fwd, rev])\n",
    "      res = pd.concat([res, interped])\n",
    "   res.to_csv(f'{path}/{file}', index=False)\n",
    "   \n",
    "res"
   ]
  },
  {
   "cell_type": "code",
   "execution_count": 3,
   "metadata": {},
   "outputs": [
    {
     "name": "stdout",
     "output_type": "stream",
     "text": [
      "ECE\n"
     ]
    }
   ],
   "source": [
    "# T1 5% height\n",
    "# ECE near edge issue\n",
    "# 1/4 global peak height\n",
    "# More ECP "
   ]
  }
 ],
 "metadata": {
  "kernelspec": {
   "display_name": "Python 3.9.4 64-bit",
   "language": "python",
   "name": "python3"
  },
  "language_info": {
   "codemirror_mode": {
    "name": "ipython",
    "version": 3
   },
   "file_extension": ".py",
   "mimetype": "text/x-python",
   "name": "python",
   "nbconvert_exporter": "python",
   "pygments_lexer": "ipython3",
   "version": "3.9.4"
  },
  "orig_nbformat": 4,
  "vscode": {
   "interpreter": {
    "hash": "aee8b7b246df8f9039afb4144a1f6fd8d2ca17a180786b69acc140d282b71a49"
   }
  }
 },
 "nbformat": 4,
 "nbformat_minor": 2
}
